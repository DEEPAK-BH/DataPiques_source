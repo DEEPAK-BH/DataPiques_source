{
 "cells": [
  {
   "cell_type": "markdown",
   "metadata": {},
   "source": [
    "# Hey you, Data Scientist! Learn yourself some operations\n",
    "\n",
    "You've studied machine learning, you're a dataframe master for massaging data, and you can easily pipe that data through scikit-learn. \n",
    "\n",
    "You go for a job interview at a SASS company, you're given some raw data and labels and asked to predict churn, and come on - are these guys even trying? You generate the shit out of some features, you overfit the hell out of that multidimensional manifold just so you can back off and show off your knowledge of regularization, and then you put the icing on the cake by cross validating towards a better metric for the business problem than simple accuracy. \n",
    "\n",
    "Next.\n",
    "\n",
    "You roll up on an ecommerce company, and they trick you by basically giving you no features. Just users, products, and clicks? Ha! Nice try, but you know that's a classic recommender system. Boom! Out of nowhere, the ratings matrix is factorized, and you're serving up top-notch recommendations a-plenty.\n",
    "\n",
    "Next.\n",
    "\n",
    "Your uncle calls you and asks for a \"family favor\". He manufactures artisinal dog collars in a Brooklyn warehouse and sells directly to the consumer for cheap by cutting out any middlemen. He doesn't know what the word churn means. He needs to decide how many of his 10 types of dog collars he should build next month. His company's bootstrapped and can never meet the customer demand, so the products always sell out. Each collar in the catlog has a different profit margin, a different minimum build quantity, and there's only a $10K budget. Uncle likes having as many collar types on the shelves as possible, so he plans to produce roughly similar collar quantities (within 30 of each other). Uncle asks you, \"How many of each collar should we build to maximize profit?\"\n",
    "\n",
    "Uhhhhh.\n",
    "\n",
    "You panic and try to apply ML to everything. *Hmmm, profit is a not a label but more a continuous variable. Okay, not a classification problem. Maybe this is a regression problem? Do I even want to predict the profit? Wait, what are my features? Shit, there's like no data...*\n",
    "\n",
    "And so you write a program to enumerate all possible combinations of dog collar quantities along with the associated profit, and you find the maximum of the list of answers. Your uncle's happy, but you feel like an idiot because you know that this isn't scalable and god help you if you're ever asked this in an interview and there's just *got* to be a better way, right?\n",
    "\n",
    "Well, there's a better way.\n",
    "\n",
    "There's a better way! And I feel like nobody talks about it because the Data's not Big, you're not Learning Deep things, and there's nary a chatbot in sight. It's boring, old operations research which was something that I guess your university offered but nobody really knew what it meant. Full disclosure: I still don't really know what it means. I *do* know that the job of the data scientist is to bring value to the company, and having some operations in your toolbelt is quite valuable!\n",
    "\n",
    "## Problem formulation\n",
    "\n",
    "Let's try to solve a simple version of Uncle's problem to get a feel for how we think about these things. I am not going to in any way cover how programs actually solve these problems (because I still don't know) but instead how one sets up this problem and asks a solver to solve this in Python.\n",
    "\n",
    "What was the original question? \"How many of each collar should we build to maximize profit?\" Maximize profit is the key phrase here. The way to think of optimization problems like this are in terms of the objective function and the constraints. We want to maximize profit, so our objective function will be the total profit from all collars produced (assuming all get sold). If we say that we have a variable, $c_{j}$, which says how many of collar $j$ we will produce, and $p_{j}$ is a constant denoting the profit that we will make on that collar, then our objective function is simply\n",
    "\n",
    "$$\\sum\\limits_{j}p_{j}c_{j}$$\n",
    "\n",
    "We want to maximize this function subject to specific constraints. One constraint is that we only have a \\$5K budget. The simplest method of solving these types of problems is to keep all constraints linear. If we have known constants, $w_{j}$ which is the cost in dollars of producing collar $j$, then this constraint could be expressed in mathematical form as\n",
    "\n",
    "$$\\sum\\limits_{j}w_{j}c_{j} \\leq 5000$$\n",
    "\n",
    "Isn't this fun? All of these optimization problems consist of figuring out how to define your constraints in terms of *math* which is basically like the ultimate nerd-puzzle. The constraint on figuring out your constraints (see what I did there?) is that you should keep your constraints linear. This can get fairly tricky (read: fun).\n",
    "\n",
    "Alright, let's figure out the last constraint, and then we can start coding this thing up. If $r_{j}$ is the minimimum run size for each collar, then this is easy:\n",
    "\n",
    "$$\\forall\\, j,\\, c_{j} >= r_{j} $$\n",
    "\n",
    "By the way, that means \"for all $j$, $c_{j}$ is greater than or equal to 50\".\n",
    "\n",
    "## Math $\\Rightarrow$ Code\n",
    "\n",
    "At Birchbox, I programmed and solved a number of optimization problems, and I had the luxury to use [Gurobi](http://www.gurobi.com/), a state of the art mixed-integer programming solver with API's in many languages. Gurobi is most definitely not free, so I won't use it in this blog post on the off chance that you want to program along. Instead, we'll use GLPK as our solver and pulp as the Python API. I've included instructions for installing both libraries for Linux at the bottom of this post."
   ]
  },
  {
   "cell_type": "code",
   "execution_count": 465,
   "metadata": {
    "collapsed": true
   },
   "outputs": [],
   "source": [
    "from pulp import *\n",
    "import numpy as np"
   ]
  },
  {
   "cell_type": "code",
   "execution_count": 484,
   "metadata": {
    "collapsed": false
   },
   "outputs": [
    {
     "data": {
      "text/plain": [
       "6845.15"
      ]
     },
     "execution_count": 484,
     "metadata": {},
     "output_type": "execute_result"
    }
   ],
   "source": [
    "# Assume 10 collars.\n",
    "# Let's make up some numbers\n",
    "\n",
    "\n",
    "# Profit\n",
    "p = [5.30, 8.23, 5.70, 3.32, 10.00, 5.00, 7.25, 3.90, 7.05, 6.56]\n",
    "\n",
    "# Cost\n",
    "w = [13.00, 19.30, 13.75, 8.54, 24.34, 13.90, 16.51, 9.00, 16.55, 14.10]\n",
    "\n",
    "# Min run size\n",
    "r = [50, 30, 25, 55, 70, 40, 40, 60, 30, 60]\n",
    "\n",
    "sum([x*y for x,y in zip(r, w)])"
   ]
  },
  {
   "cell_type": "code",
   "execution_count": 485,
   "metadata": {
    "collapsed": true
   },
   "outputs": [],
   "source": [
    "prob = LpProblem('Dog Collar Problem', LpMaximize)"
   ]
  },
  {
   "cell_type": "code",
   "execution_count": 486,
   "metadata": {
    "collapsed": false
   },
   "outputs": [],
   "source": [
    "budget = 10000.0\n",
    "# Production counts (the variable in our problem)\n",
    "c = []\n",
    "\n",
    "for j in range(len(p)):\n",
    "    max_count = np.floor(budget / w[j])\n",
    "    c.append(LpVariable('c_{}'.format(j),\n",
    "                        lowBound=0,\n",
    "                        upBound=max_count,\n",
    "                        cat='Integer'))"
   ]
  },
  {
   "cell_type": "code",
   "execution_count": 487,
   "metadata": {
    "collapsed": false
   },
   "outputs": [],
   "source": [
    "# Add objective function first\n",
    "prob += lpSum([i * j for i, j in zip(p, c)]), 'Total profit'\n",
    "\n",
    "# Budget constraint\n",
    "prob += lpSum([i * j] for i, j in zip(w, c)) <= budget, 'Budget'\n",
    "\n",
    "# Min batch size constraint\n",
    "for j, (cnt, run) in enumerate(zip(c, r)):\n",
    "    prob += cnt >= run, 'MinBatchSize_{}'.format(j)\n",
    "\n",
    "# Run size difference\n",
    "for i, cnt1 in enumerate(c[:-1]):\n",
    "    for cnt2 in enumerate(c[i+1:]):\n",
    "        prob += cnt1 - cnt2 <= 30\n",
    "        prob += cnt2 - cnt1 <= 30\n",
    "    "
   ]
  },
  {
   "cell_type": "code",
   "execution_count": 488,
   "metadata": {
    "collapsed": false
   },
   "outputs": [],
   "source": [
    "prob.writeLP('CollarModel.lp')"
   ]
  },
  {
   "cell_type": "code",
   "execution_count": 489,
   "metadata": {
    "collapsed": false
   },
   "outputs": [
    {
     "data": {
      "text/plain": [
       "1"
      ]
     },
     "execution_count": 489,
     "metadata": {},
     "output_type": "execute_result"
    }
   ],
   "source": [
    "prob.solve()"
   ]
  },
  {
   "cell_type": "code",
   "execution_count": 490,
   "metadata": {
    "collapsed": false
   },
   "outputs": [
    {
     "name": "stdout",
     "output_type": "stream",
     "text": [
      "('Status:', 'Optimal')\n"
     ]
    }
   ],
   "source": [
    "print(\"Status:\", LpStatus[prob.status])"
   ]
  },
  {
   "cell_type": "code",
   "execution_count": 491,
   "metadata": {
    "collapsed": false
   },
   "outputs": [
    {
     "name": "stdout",
     "output_type": "stream",
     "text": [
      "('c_0', '=', 53.0)\n",
      "('c_1', '=', 78.0)\n",
      "('c_2', '=', 51.0)\n",
      "('c_3', '=', 55.0)\n",
      "('c_4', '=', 70.0)\n",
      "('c_5', '=', 48.0)\n",
      "('c_6', '=', 78.0)\n",
      "('c_7', '=', 77.0)\n",
      "('c_8', '=', 74.0)\n",
      "('c_9', '=', 75.0)\n"
     ]
    }
   ],
   "source": [
    "# Each of the variables is printed with it's resolved optimum value\n",
    "for v in prob.variables():\n",
    "    print(v.name, \"=\", v.varValue)"
   ]
  },
  {
   "cell_type": "code",
   "execution_count": 498,
   "metadata": {
    "collapsed": false
   },
   "outputs": [
    {
     "name": "stdout",
     "output_type": "stream",
     "text": [
      "Total profit = $4215.64\n"
     ]
    }
   ],
   "source": [
    "# The optimised objective function value is printed to the screen\n",
    "print('Total profit = ${:6.2f}'.format(value(prob.objective)))"
   ]
  },
  {
   "cell_type": "markdown",
   "metadata": {},
   "source": [
    "#### PERSONAL INSTALLATION NOTES\n",
    "Install pulp.\n",
    "```bash\n",
    "conda install --channel https://conda.anaconda.org/timcera pulp\n",
    "```\n",
    "Does not work with python 3\n",
    "Install GLPK (it's free!).\n",
    "```bash\n",
    "sudo apt-get install glpk-utils\n",
    "```\n",
    "Test the installation. Open python, type\n",
    "```python\n",
    "import pulp\n",
    "pulp.pulpTestAll()\n",
    "```\n",
    "Should see\n",
    "```bash\n",
    "\t Testing zero subtraction\n",
    "\t Testing inconsistant lp solution\n",
    "\t Testing continuous LP solution\n",
    "\t Testing maximize continuous LP solution\n",
    "\t Testing unbounded continuous LP solution\n",
    "\t Testing Long Names\n",
    "\t Testing repeated Names\n",
    "\t Testing zero constraint\n",
    "\t Testing zero objective\n",
    "\t Testing LpVariable (not LpAffineExpression) objective\n",
    "\t Testing Long lines in LP\n",
    "\t Testing LpAffineExpression divide\n",
    "\t Testing MIP solution\n",
    "\t Testing MIP solution with floats in objective\n",
    "\t Testing MIP relaxation\n",
    "\t Testing feasibility problem (no objective)\n",
    "\t Testing an infeasible problem\n",
    "\t Testing an integer infeasible problem\n",
    "\t Testing column based modelling\n",
    "\t Testing dual variables and slacks reporting\n",
    "\t Testing fractional constraints\n",
    "\t Testing elastic constraints (no change)\n",
    "\t Testing elastic constraints (freebound)\n",
    "\t Testing elastic constraints (penalty unchanged)\n",
    "\t Testing elastic constraints (penalty unbounded)\n",
    "* Solver pulp.solvers.PULP_CBC_CMD passed.\n",
    "Solver pulp.solvers.CPLEX_DLL unavailable\n",
    "Solver pulp.solvers.CPLEX_CMD unavailable\n",
    "Solver pulp.solvers.CPLEX_PY unavailable\n",
    "Solver pulp.solvers.COIN_CMD unavailable\n",
    "Solver pulp.solvers.COINMP_DLL unavailable\n",
    "\t Testing zero subtraction\n",
    "\t Testing inconsistant lp solution\n",
    "\t Testing continuous LP solution\n",
    "\t Testing maximize continuous LP solution\n",
    "\t Testing unbounded continuous LP solution\n",
    "\t Testing Long Names\n",
    "\t Testing repeated Names\n",
    "\t Testing zero constraint\n",
    "\t Testing zero objective\n",
    "\t Testing LpVariable (not LpAffineExpression) objective\n",
    "\t Testing LpAffineExpression divide\n",
    "\t Testing MIP solution\n",
    "\t Testing MIP solution with floats in objective\n",
    "\t Testing MIP relaxation\n",
    "\t Testing feasibility problem (no objective)\n",
    "\t Testing an infeasible problem\n",
    "\t Testing an integer infeasible problem\n",
    "\t Testing column based modelling\n",
    "\t Testing fractional constraints\n",
    "\t Testing elastic constraints (no change)\n",
    "\t Testing elastic constraints (freebound)\n",
    "\t Testing elastic constraints (penalty unchanged)\n",
    "\t Testing elastic constraints (penalty unbounded)\n",
    "* Solver pulp.solvers.GLPK_CMD passed.\n",
    "Solver pulp.solvers.XPRESS unavailable\n",
    "Solver pulp.solvers.GUROBI unavailable\n",
    "Solver pulp.solvers.GUROBI_CMD unavailable\n",
    "Solver pulp.solvers.PYGLPK unavailable\n",
    "Solver pulp.solvers.YAPOSIB unavailable\n",
    "```"
   ]
  },
  {
   "cell_type": "code",
   "execution_count": null,
   "metadata": {
    "collapsed": true
   },
   "outputs": [],
   "source": []
  }
 ],
 "metadata": {
  "kernelspec": {
   "display_name": "Python 2",
   "language": "python",
   "name": "python2"
  },
  "language_info": {
   "codemirror_mode": {
    "name": "ipython",
    "version": 2
   },
   "file_extension": ".py",
   "mimetype": "text/x-python",
   "name": "python",
   "nbconvert_exporter": "python",
   "pygments_lexer": "ipython2",
   "version": "2.7.12"
  }
 },
 "nbformat": 4,
 "nbformat_minor": 0
}
